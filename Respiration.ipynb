{
 "cells": [
  {
   "attachments": {},
   "cell_type": "markdown",
   "metadata": {},
   "source": [
    "# Respiration\n",
    "\n",
    "## There are two types of respiraiton: aerobic and anaerobic.\n",
    "- Aerobic respiration requires oxygen\n",
    "- While anaerobic respiration does not.\n"
   ]
  },
  {
   "attachments": {},
   "cell_type": "markdown",
   "metadata": {},
   "source": [
    "![StagesOfRespiration.png](./Images/StagesOfRespiration.png)"
   ]
  }
 ],
 "metadata": {
  "language_info": {
   "name": "python"
  },
  "orig_nbformat": 4
 },
 "nbformat": 4,
 "nbformat_minor": 2
}
