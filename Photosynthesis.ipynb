{
 "cells": [
  {
   "attachments": {},
   "cell_type": "markdown",
   "metadata": {},
   "source": [
    "# Photosynthesis stores energy in glucose\n",
    "- Photosynthesis is the process where energy from light is used to make glucose from H2O and CO2\n",
    "- Light energy is converted to chemical energy\n",
    "- 6CO2 + 6H2O + light --> C6H12O6 + 6O2\n",
    "\n"
   ]
  },
  {
   "cell_type": "code",
   "execution_count": 1,
   "metadata": {},
   "outputs": [],
   "source": [
    "MetabolicPathway = 'a series of small reactions controlled by enzymes, e.g. respiration and photosynthesis'\n",
    "Phosphorylation = 'the addition of a phosphate group to a molecule'\n",
    "Photophosphorylation = 'the addition of a phosphate group to a molecule using light energy'\n",
    "Photolysis = 'the splitting of a molecule using light energy'\n",
    "Photoionisation = 'when light energy `excites` electrons in an atom to a higher energy level, causing them to leave the atom(released). This leaves the atom(now a ion) with a positive charge'\n",
    "PhotolysisOfWater = 'the splitting of water molecules using light energy'\n",
    "Hydrolysis = 'the splitting of a molecule using water'\n",
    "Decarboxylation = 'the removal of a carbon dioxide molecule from a molecule'\n",
    "Dehydrogenation = 'the removal of a hydrogen atom from a molecule'\n",
    "Oxidation = 'the loss of electrons from a molecule'\n",
    "Reduction = 'the gain of electrons from a molecule'\n",
    "RedoxReactions = f'reactions that involve {Oxidation} and {Reduction}.'"
   ]
  },
  {
   "attachments": {},
   "cell_type": "markdown",
   "metadata": {},
   "source": [
    "# Coenzymes\n",
    "\n",
    "- They work by transferring a chemical group from one molecule to another\n",
    "- They are not proteins\n",
    "- They are small organic molecules\n",
    "- They are not specific to one enzyme\n",
    "- They are not consumed in the reaction, therefore they can be reused\n",
    "\n",
    "A coenzyme used in photosynthesis is NADP. NADP transfers hydrogen from one molecule to another - this means it can reduce or oxidise a molecule\n"
   ]
  },
  {
   "cell_type": "code",
   "execution_count": null,
   "metadata": {},
   "outputs": [],
   "source": [
    "questions = [\n",
    "    (\"what is photoionisation?\", \"Photoionisation is the process where light energy excites electrons in an atom causing it to move to a higher energy level. This causes the electorn to be released and the atom to become an ion with a positive charge equal to the number of electrons released.\"),\n",
    "    (\"give the name of a coenzyme involved in photosynthesis\", \"NADP\"),\n",
    "    (\"what is the name of the process where light energy is used to add a phosphate group to a molecule?\", \"Photophosphorylation\"),\n",
    "    (\"what is the name of the process where light energy is used to split a molecule?\", \"Photolysis\"),\n",
    "    (\"what is the name of the process where light energy is used to split water molecules?\", \"Photolysis of water\"),\n",
    "]\n",
    "\n",
    "for q, a in questions:\n",
    "    print(q)\n",
    "    input(\"press any key to reveal the answer\")\n",
    "    print(a)\n",
    "    print()"
   ]
  },
  {
   "cell_type": "code",
   "execution_count": null,
   "metadata": {},
   "outputs": [],
   "source": [
    "\"\"\"\"\n",
    "Photosynthesis takes place in the chloroplats of plant cells.\n",
    "\n",
    "\n",
    "\"\"\""
   ]
  }
 ],
 "metadata": {
  "kernelspec": {
   "display_name": "Python 3",
   "language": "python",
   "name": "python3"
  },
  "language_info": {
   "codemirror_mode": {
    "name": "ipython",
    "version": 3
   },
   "file_extension": ".py",
   "mimetype": "text/x-python",
   "name": "python",
   "nbconvert_exporter": "python",
   "pygments_lexer": "ipython3",
   "version": "3.11.0"
  },
  "orig_nbformat": 4
 },
 "nbformat": 4,
 "nbformat_minor": 2
}
